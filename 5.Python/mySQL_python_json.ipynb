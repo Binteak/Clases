{
 "cells": [
  {
   "cell_type": "code",
   "execution_count": 4,
   "metadata": {},
   "outputs": [
    {
     "name": "stdout",
     "output_type": "stream",
     "text": [
      "Conexión establecida con éxito\n",
      "DataFrame obtenido de la consulta:\n",
      "   id                    titulo  anio                 autor  genero\n",
      "0   1              Pulp Fiction  1994     Quentin Tarantino  Crimen\n",
      "1   2  The Shawshank Redemption  1994        Frank Darabont   Drama\n",
      "2   3             The Godfather  1972  Francis Ford Coppola   Drama\n",
      "3   4              The Irishman  2019       Martin Scorsese  Crimen\n",
      "4   5          Django Unchained  2012     Quentin Tarantino   Drama\n",
      "\n",
      "JSON obtenido del DataFrame:\n",
      "[{\"id\":1,\"titulo\":\"Pulp Fiction\",\"anio\":1994,\"autor\":\"Quentin Tarantino\",\"genero\":\"Crimen\"},{\"id\":2,\"titulo\":\"The Shawshank Redemption\",\"anio\":1994,\"autor\":\"Frank Darabont\",\"genero\":\"Drama\"},{\"id\":3,\"titulo\":\"The Godfather\",\"anio\":1972,\"autor\":\"Francis Ford Coppola\",\"genero\":\"Drama\"},{\"id\":4,\"titulo\":\"The Irishman\",\"anio\":2019,\"autor\":\"Martin Scorsese\",\"genero\":\"Crimen\"},{\"id\":5,\"titulo\":\"Django Unchained\",\"anio\":2012,\"autor\":\"Quentin Tarantino\",\"genero\":\"Drama\"}]\n"
     ]
    },
    {
     "name": "stderr",
     "output_type": "stream",
     "text": [
      "C:\\Users\\CL763LJ\\AppData\\Local\\Temp\\ipykernel_5632\\705648755.py:22: UserWarning: pandas only supports SQLAlchemy connectable (engine/connection) or database string URI or sqlite3 DBAPI2 connection. Other DBAPI2 objects are not tested. Please consider using SQLAlchemy.\n",
      "  df = pd.read_sql(consulta, conn)\n"
     ]
    }
   ],
   "source": [
    "import mysql.connector\n",
    "import pandas as pd\n",
    "import json\n",
    "\n",
    "# Establecer conexión a la base de datos\n",
    "conn = mysql.connector.connect(\n",
    "    host=\"127.0.0.1\",\n",
    "    port=\"3306\",\n",
    "    user=\"binteak\",\n",
    "    password=\"Torcatorca1\",\n",
    "    database=\"esquemapeliculas\"\n",
    ")\n",
    "\n",
    "# Verificar si la conexión fue exitosa\n",
    "if conn.is_connected():\n",
    "    print(\"Conexión establecida con éxito\")\n",
    "\n",
    "    # Ejecutar consulta SQL elaborada\n",
    "    consulta = \"SELECT * FROM Peliculas\"\n",
    "\n",
    "    # Cargar resultados en un DataFrame de Pandas\n",
    "    df = pd.read_sql(consulta, conn)\n",
    "\n",
    "    # Mostrar el DataFrame resultante\n",
    "    print(\"DataFrame obtenido de la consulta:\")\n",
    "    print(df)\n",
    "\n",
    "    # Convertir DataFrame a formato JSON\n",
    "    json_data = df.to_json(orient='records')\n",
    "\n",
    "    # Mostrar el JSON resultante\n",
    "    print(\"\\nJSON obtenido del DataFrame:\")\n",
    "    print(json_data)\n",
    "\n",
    "else:\n",
    "    print(\"Error: No se pudo conectar a la base de datos\")\n",
    "\n",
    "# Cerrar la conexión\n",
    "conn.close()"
   ]
  },
  {
   "cell_type": "code",
   "execution_count": 5,
   "metadata": {},
   "outputs": [
    {
     "data": {
      "text/plain": [
       "'[{\"id\":1,\"titulo\":\"Pulp Fiction\",\"anio\":1994,\"autor\":\"Quentin Tarantino\",\"genero\":\"Crimen\"},{\"id\":2,\"titulo\":\"The Shawshank Redemption\",\"anio\":1994,\"autor\":\"Frank Darabont\",\"genero\":\"Drama\"},{\"id\":3,\"titulo\":\"The Godfather\",\"anio\":1972,\"autor\":\"Francis Ford Coppola\",\"genero\":\"Drama\"},{\"id\":4,\"titulo\":\"The Irishman\",\"anio\":2019,\"autor\":\"Martin Scorsese\",\"genero\":\"Crimen\"},{\"id\":5,\"titulo\":\"Django Unchained\",\"anio\":2012,\"autor\":\"Quentin Tarantino\",\"genero\":\"Drama\"}]'"
      ]
     },
     "execution_count": 5,
     "metadata": {},
     "output_type": "execute_result"
    }
   ],
   "source": [
    "json_data"
   ]
  },
  {
   "cell_type": "code",
   "execution_count": 10,
   "metadata": {},
   "outputs": [
    {
     "name": "stdout",
     "output_type": "stream",
     "text": [
      "JSON guardado en C:/Users/CL763LJ/OneDrive - EY/Desktop/Clases/3.SQL/json_peliculas_ipynb.json\n"
     ]
    }
   ],
   "source": [
    "# Ruta donde quieres guardar el archivo\n",
    "ruta_archivo = \"C:/Users/CL763LJ/OneDrive - EY/Desktop/Clases/3.SQL/json_peliculas_ipynb.json\"\n",
    "\n",
    "# Abre el archivo en modo escritura\n",
    "with open(ruta_archivo, \"w\") as archivo:\n",
    "    # Escribe la cadena JSON en el archivo\n",
    "    archivo.write(json_data)\n",
    "\n",
    "print(f\"JSON guardado en {ruta_archivo}\")"
   ]
  }
 ],
 "metadata": {
  "kernelspec": {
   "display_name": "Python 3",
   "language": "python",
   "name": "python3"
  },
  "language_info": {
   "codemirror_mode": {
    "name": "ipython",
    "version": 3
   },
   "file_extension": ".py",
   "mimetype": "text/x-python",
   "name": "python",
   "nbconvert_exporter": "python",
   "pygments_lexer": "ipython3",
   "version": "3.12.2"
  }
 },
 "nbformat": 4,
 "nbformat_minor": 2
}
