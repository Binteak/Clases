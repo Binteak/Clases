{
 "cells": [
  {
   "cell_type": "code",
   "execution_count": 27,
   "metadata": {},
   "outputs": [
    {
     "name": "stdout",
     "output_type": "stream",
     "text": [
      "hola mundo\n"
     ]
    }
   ],
   "source": [
    "print('hola mundo')"
   ]
  },
  {
   "cell_type": "code",
   "execution_count": 28,
   "metadata": {},
   "outputs": [
    {
     "name": "stdout",
     "output_type": "stream",
     "text": [
      "ldap://ldap.example.com:389 - cleartext - user: binteak - not lazy - unbound - closed - <no socket> - tls not started - not listening - SyncStrategy - internal decoder\n"
     ]
    }
   ],
   "source": [
    "from ldap3 import Server, Connection, ALL\n",
    "\n",
    "# Configurar la conexión LDAP\n",
    "server = Server('ldap.example.com', get_info=ALL)\n",
    "\n",
    "# Configurar la conexión\n",
    "conn = Connection(server, user='binteak', password='Torcatorca1')\n",
    "print(conn)\n",
    "# # Intentar conectar\n",
    "# if not conn.bind():\n",
    "#     print('Error de conexión:', conn.result)\n",
    "# else:\n",
    "#     print('Conexión exitosa')"
   ]
  },
  {
   "cell_type": "code",
   "execution_count": 22,
   "metadata": {},
   "outputs": [
    {
     "name": "stdout",
     "output_type": "stream",
     "text": [
      "Conexión establecida con éxito\n",
      "(1, 'Pulp Fiction', 1994, 'Quentin Tarantino', 'Crimen')\n",
      "(2, 'The Shawshank Redemption', 1994, 'Frank Darabont', 'Drama')\n",
      "(3, 'The Godfather', 1972, 'Francis Ford Coppola', 'Drama')\n",
      "(4, 'The Irishman', 2019, 'Martin Scorsese', 'Crimen')\n",
      "(5, 'Django Unchained', 2012, 'Quentin Tarantino', 'Drama')\n"
     ]
    }
   ],
   "source": [
    "import mysql.connector\n",
    "\n",
    "# Configurar la conexión con el host, puerto y nombre de la base de datos conocidos\n",
    "conn = mysql.connector.connect(\n",
    "    host=\"127.0.0.1\",\n",
    "    port=\"3306\",\n",
    "    user=\"binteak\",\n",
    "    password=\"Torcatorca1\",\n",
    "    database=\"esquemapeliculas\"\n",
    ")\n",
    "\n",
    "# Verificar si la conexión fue exitosa\n",
    "if conn.is_connected():\n",
    "    print(\"Conexión establecida con éxito\")\n",
    "    # Aquí puedes continuar con tus operaciones en la base de datos\n",
    "else:\n",
    "    print(\"Error: No se pudo conectar a la base de datos\")\n",
    "\n",
    "# Crear un cursor para ejecutar consultas\n",
    "cursor = conn.cursor()\n",
    "\n",
    "# Ejecutar una consulta SQL\n",
    "consulta = \"SELECT * FROM peliculas\" #si no pones database en el conn, esquemapeliculas.peliculas\n",
    "cursor.execute(consulta)\n",
    "\n",
    "# Obtener los resultados de la consulta\n",
    "resultados = cursor.fetchall()\n",
    "\n",
    "# Mostrar los resultados\n",
    "for fila in resultados:\n",
    "    print(fila)\n",
    "\n",
    "# Cerrar el cursor y la conexión\n",
    "cursor.close()\n",
    "conn.close()\n",
    "\n",
    "\n"
   ]
  },
  {
   "cell_type": "code",
   "execution_count": 25,
   "metadata": {},
   "outputs": [
    {
     "name": "stdout",
     "output_type": "stream",
     "text": [
      "Conexión establecida con éxito\n",
      "DataFrame obtenido de la tabla Peliculas:\n",
      "   id                    titulo   año                 autor  genero\n",
      "0   1              Pulp Fiction  1994     Quentin Tarantino  Crimen\n",
      "1   2  The Shawshank Redemption  1994        Frank Darabont   Drama\n",
      "2   3             The Godfather  1972  Francis Ford Coppola   Drama\n",
      "3   4              The Irishman  2019       Martin Scorsese  Crimen\n",
      "4   5          Django Unchained  2012     Quentin Tarantino   Drama\n"
     ]
    },
    {
     "name": "stderr",
     "output_type": "stream",
     "text": [
      "C:\\Users\\CL763LJ\\AppData\\Local\\Temp\\ipykernel_21044\\1130363412.py:19: UserWarning: pandas only supports SQLAlchemy connectable (engine/connection) or database string URI or sqlite3 DBAPI2 connection. Other DBAPI2 objects are not tested. Please consider using SQLAlchemy.\n",
      "  df = pd.read_sql(consulta, conn)\n"
     ]
    }
   ],
   "source": [
    "import mysql.connector\n",
    "import pandas as pd\n",
    "\n",
    "# Establecer conexión a la base de datos\n",
    "conn = mysql.connector.connect(\n",
    "    host=\"127.0.0.1\",\n",
    "    port=\"3306\",\n",
    "    user=\"binteak\",\n",
    "    password=\"Torcatorca1\",\n",
    "    database=\"esquemapeliculas\"\n",
    ")\n",
    "\n",
    "# Verificar si la conexión fue exitosa\n",
    "if conn.is_connected():\n",
    "    print(\"Conexión establecida con éxito\")\n",
    "\n",
    "    # Ejecutar consulta SQL para obtener los datos de la tabla\n",
    "    consulta = \"SELECT * FROM Peliculas\"\n",
    "    df = pd.read_sql(consulta, conn)\n",
    "\n",
    "    # Mostrar el DataFrame resultante\n",
    "    print(\"DataFrame obtenido de la tabla Peliculas:\")\n",
    "    print(df)\n",
    "\n",
    "else:\n",
    "    print(\"Error: No se pudo conectar a la base de datos\")\n",
    "\n",
    "# Cerrar la conexión\n",
    "conn.close()"
   ]
  },
  {
   "cell_type": "code",
   "execution_count": null,
   "metadata": {},
   "outputs": [],
   "source": [
    "#Diferentes tipos de queries\n",
    "#Seleccionar todos los registros de la tabla Peliculas:\n",
    "consulta = \"SELECT * FROM Peliculas\"\n",
    "\n",
    "#Seleccionar solo ciertas columnas (por ejemplo, id, titulo, año):\n",
    "consulta = \"SELECT id, titulo, año FROM Peliculas\"\n",
    "\n",
    "#Filtrar por año específico (por ejemplo, todas las películas del año 2020):\n",
    "consulta = \"SELECT * FROM Peliculas WHERE año = 2020\"\n",
    "\n",
    "#Ordenar por año de lanzamiento de forma ascendente:\n",
    "consulta = \"SELECT * FROM Peliculas ORDER BY año ASC\"\n",
    "\n",
    "#Contar el número total de películas en la tabla:\n",
    "consulta = \"SELECT COUNT(*) FROM Peliculas\"\n",
    "\n",
    "#Obtener las películas agrupadas por género con la cantidad de películas en cada género:\n",
    "consulta = \"SELECT genero, COUNT(*) as cantidad FROM Peliculas GROUP BY genero\"\n",
    "\n",
    "#Encontrar las películas dirigidas por un autor específico (por ejemplo, \"Quentin Tarantino\"):\n",
    "consulta = \"SELECT * FROM Peliculas WHERE autor = 'Quentin Tarantino'\"\n",
    "\n",
    "#Buscar películas que contengan cierta palabra en el título (por ejemplo, \"Star Wars\"):\n",
    "consulta = \"SELECT * FROM Peliculas WHERE titulo LIKE '%Star Wars%'\""
   ]
  },
  {
   "cell_type": "code",
   "execution_count": 26,
   "metadata": {},
   "outputs": [
    {
     "data": {
      "text/html": [
       "<div>\n",
       "<style scoped>\n",
       "    .dataframe tbody tr th:only-of-type {\n",
       "        vertical-align: middle;\n",
       "    }\n",
       "\n",
       "    .dataframe tbody tr th {\n",
       "        vertical-align: top;\n",
       "    }\n",
       "\n",
       "    .dataframe thead th {\n",
       "        text-align: right;\n",
       "    }\n",
       "</style>\n",
       "<table border=\"1\" class=\"dataframe\">\n",
       "  <thead>\n",
       "    <tr style=\"text-align: right;\">\n",
       "      <th></th>\n",
       "      <th>id</th>\n",
       "      <th>titulo</th>\n",
       "      <th>año</th>\n",
       "      <th>autor</th>\n",
       "      <th>genero</th>\n",
       "    </tr>\n",
       "  </thead>\n",
       "  <tbody>\n",
       "    <tr>\n",
       "      <th>0</th>\n",
       "      <td>1</td>\n",
       "      <td>Pulp Fiction</td>\n",
       "      <td>1994</td>\n",
       "      <td>Quentin Tarantino</td>\n",
       "      <td>Crimen</td>\n",
       "    </tr>\n",
       "    <tr>\n",
       "      <th>1</th>\n",
       "      <td>2</td>\n",
       "      <td>The Shawshank Redemption</td>\n",
       "      <td>1994</td>\n",
       "      <td>Frank Darabont</td>\n",
       "      <td>Drama</td>\n",
       "    </tr>\n",
       "    <tr>\n",
       "      <th>2</th>\n",
       "      <td>3</td>\n",
       "      <td>The Godfather</td>\n",
       "      <td>1972</td>\n",
       "      <td>Francis Ford Coppola</td>\n",
       "      <td>Drama</td>\n",
       "    </tr>\n",
       "    <tr>\n",
       "      <th>3</th>\n",
       "      <td>4</td>\n",
       "      <td>The Irishman</td>\n",
       "      <td>2019</td>\n",
       "      <td>Martin Scorsese</td>\n",
       "      <td>Crimen</td>\n",
       "    </tr>\n",
       "    <tr>\n",
       "      <th>4</th>\n",
       "      <td>5</td>\n",
       "      <td>Django Unchained</td>\n",
       "      <td>2012</td>\n",
       "      <td>Quentin Tarantino</td>\n",
       "      <td>Drama</td>\n",
       "    </tr>\n",
       "  </tbody>\n",
       "</table>\n",
       "</div>"
      ],
      "text/plain": [
       "   id                    titulo   año                 autor  genero\n",
       "0   1              Pulp Fiction  1994     Quentin Tarantino  Crimen\n",
       "1   2  The Shawshank Redemption  1994        Frank Darabont   Drama\n",
       "2   3             The Godfather  1972  Francis Ford Coppola   Drama\n",
       "3   4              The Irishman  2019       Martin Scorsese  Crimen\n",
       "4   5          Django Unchained  2012     Quentin Tarantino   Drama"
      ]
     },
     "execution_count": 26,
     "metadata": {},
     "output_type": "execute_result"
    }
   ],
   "source": [
    "df"
   ]
  }
 ],
 "metadata": {
  "kernelspec": {
   "display_name": "Python 3",
   "language": "python",
   "name": "python3"
  },
  "language_info": {
   "codemirror_mode": {
    "name": "ipython",
    "version": 3
   },
   "file_extension": ".py",
   "mimetype": "text/x-python",
   "name": "python",
   "nbconvert_exporter": "python",
   "pygments_lexer": "ipython3",
   "version": "3.12.2"
  }
 },
 "nbformat": 4,
 "nbformat_minor": 2
}
